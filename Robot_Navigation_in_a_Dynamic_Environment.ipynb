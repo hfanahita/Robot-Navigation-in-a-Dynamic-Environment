{
  "nbformat": 4,
  "nbformat_minor": 0,
  "metadata": {
    "colab": {
      "provenance": []
    },
    "kernelspec": {
      "name": "python3",
      "display_name": "Python 3"
    },
    "language_info": {
      "name": "python"
    }
  },
  "cells": [
    {
      "cell_type": "markdown",
      "source": [
        "#Robot Navigation in a Dynamic Environment"
      ],
      "metadata": {
        "id": "wBPQVPDNJ_Xh"
      }
    },
    {
      "cell_type": "markdown",
      "source": [
        "##Processing the Input File"
      ],
      "metadata": {
        "id": "oRRPTu-eKKX4"
      }
    },
    {
      "cell_type": "code",
      "source": [
        "input_file = 'input.txt'"
      ],
      "metadata": {
        "id": "oASOyQwOOhSA"
      },
      "execution_count": null,
      "outputs": []
    },
    {
      "cell_type": "code",
      "execution_count": null,
      "metadata": {
        "id": "JehsQeCFJ8Mv"
      },
      "outputs": [],
      "source": [
        "def read_input(path):\n",
        "    with open(path, 'r') as f:\n",
        "        # grid dimensions\n",
        "        n, m = map(int, f.readline().strip().split())\n",
        "\n",
        "        # b as the battery life and t as the time steps\n",
        "        b, t = map(int, f.readline().strip().split())\n",
        "\n",
        "        # (s_x, s_y) as the starting position of the robot and (d_x, d_y) as the destination position of the robot\n",
        "        s_x, s_y, d_x, d_y = map(int, f.readline().strip().split())\n",
        "\n",
        "        grid = [f.readline().strip() for _ in range(n)]\n",
        "\n",
        "        dynamic_obstacles = {}\n",
        "        for time_step in range(t):\n",
        "            obstacles = []\n",
        "            # Number of obstacles at this time step\n",
        "            k = int(f.readline().strip())\n",
        "            for obstacle in range(k):\n",
        "                obstacles.append(tuple(map(int, f.readline().strip().split())))\n",
        "            dynamic_obstacles[time_step] = obstacles\n",
        "\n",
        "\n",
        "    return n, m, b, t, (s_x, s_y), (d_x, d_y), grid, dynamic_obstacles\n",
        "\n",
        "def print_input(path):\n",
        "  n, m, b, t, start, destination, grid, dynamic_obstacles = read_input(path)\n",
        "  print(\"Grid size:\", n, \"x\", m)\n",
        "  print(\"Battery life:\", b)\n",
        "  print(\"Time steps:\", t)\n",
        "  print(\"Starting position:\", start)\n",
        "  print(\"Destination position:\", destination)\n",
        "  print(\"grid:\")\n",
        "  for row in grid:\n",
        "      print(row)\n",
        "  print(\"Dynamic obstacles:\", dynamic_obstacles)\n"
      ]
    },
    {
      "cell_type": "code",
      "source": [
        "print_input(input_file)\n",
        "n, m, b, t, start, destination, grid, dynamic_obstacles = read_input(input_file)"
      ],
      "metadata": {
        "colab": {
          "base_uri": "https://localhost:8080/"
        },
        "id": "bhtolFohJ9Ol",
        "outputId": "d637b939-fabe-40a5-c693-82d7b4c1db98"
      },
      "execution_count": null,
      "outputs": [
        {
          "output_type": "stream",
          "name": "stdout",
          "text": [
            "Grid size: 5 x 5\n",
            "Battery life: 15\n",
            "Time steps: 3\n",
            "Starting position: (0, 0)\n",
            "Destination position: (4, 4)\n",
            "grid:\n",
            ".#...\n",
            "..#..\n",
            "...#.\n",
            ".....\n",
            ".....\n",
            "Dynamic obstacles: {0: [(1, 2), (3, 3)], 1: [(2, 2)], 2: []}\n"
          ]
        }
      ]
    },
    {
      "cell_type": "markdown",
      "source": [
        "##Search Algorithms\n"
      ],
      "metadata": {
        "id": "Zygi0fiTQf8x"
      }
    },
    {
      "cell_type": "markdown",
      "source": [
        "##General Search Structure: Node class\n",
        "Node class represent the state of the robot"
      ],
      "metadata": {
        "id": "ohhiygGCPH95"
      }
    },
    {
      "cell_type": "code",
      "source": [
        "class Node:\n",
        "    def __init__(self, position, parent=None, g_cost=0, h_cost=0, time=0):\n",
        "        \"\"\"\n",
        "        - position (tuple): The (x, y) position of the node on the grid.\n",
        "        - parent (Node): The parent node, used to reconstruct the path.\n",
        "        - g_cost (int): The cost from the start node to this node.\n",
        "        - h_cost (int): The heuristic cost to the goal (used in A*).\n",
        "        - time (int): The current time.\n",
        "        \"\"\"\n",
        "        self.position = position\n",
        "        self.parent = parent\n",
        "        # This is particularly for A* Search Algorithm\n",
        "        self.g_cost = g_cost\n",
        "        self.h_cost = h_cost\n",
        "        self.f_cost = g_cost + h_cost\n",
        "        self.time = time\n",
        "\n",
        "\n",
        "    def __eq__(self, other):\n",
        "        \"\"\"\n",
        "        Nodes are considered equal if their positions and time steps match.\n",
        "        \"\"\"\n",
        "        return self.position == other.position and self.time_step == other.time_step\n",
        "\n",
        "    def __lt__(self, other):\n",
        "        \"\"\"\n",
        "        Override less-than for priority queue comparisons.\n",
        "        A node is considered less than another if its f value is less.\n",
        "        \"\"\"\n",
        "        return self.f_cost < other.f_cost\n",
        "\n",
        "    def __repr__(self):\n",
        "        return f\"Node(position={self.position}, f_cost={self.f_cost})\""
      ],
      "metadata": {
        "id": "bPuMg5gwQRpn"
      },
      "execution_count": null,
      "outputs": []
    },
    {
      "cell_type": "code",
      "source": [
        "# Sample usage\n",
        "start_node = Node(position=(0, 0), g_cost=0, h_cost=10, time=0)\n",
        "current_node = Node(position=(1, 0), parent=start_node, g_cost=1, h_cost=8, time=1)\n",
        "\n",
        "print(current_node)\n",
        "print(start_node == current_node)\n",
        "print(start_node < current_node)"
      ],
      "metadata": {
        "colab": {
          "base_uri": "https://localhost:8080/"
        },
        "id": "5dQuxHYZR7qo",
        "outputId": "cd2c7f89-07be-4bd1-c788-51a886e4ff11"
      },
      "execution_count": null,
      "outputs": [
        {
          "output_type": "stream",
          "name": "stdout",
          "text": [
            "Node(position=(1, 0), f_cost=9)\n",
            "False\n",
            "False\n"
          ]
        }
      ]
    },
    {
      "cell_type": "markdown",
      "source": [
        "##General Search Structure: Search class\n",
        "Here's a general search class which has the essential methods for any search algorithms. Each specific search algorithm required for the robot navigation exercise is implemented as a child of this class."
      ],
      "metadata": {
        "id": "lZyIO3fOd2g8"
      }
    },
    {
      "cell_type": "code",
      "source": [
        "import heapq\n",
        "\n",
        "class Search:\n",
        "    def __init__(self, grid, start, goal, battery_life, dynamic_obstacles, step_interval):\n",
        "        self.grid = grid\n",
        "        self.start = start\n",
        "        self.goal = goal\n",
        "        self.battery_life = battery_life\n",
        "        self.dynamic_obstacles = dynamic_obstacles\n",
        "        self.step_interval = step_interval\n",
        "    def heuristic(self, a, b):\n",
        "        \"\"\"Calculate Manhattan distance as a heuristic.\"\"\"\n",
        "        return abs(a[0] - b[0]) + abs(a[1] - b[1])\n",
        "\n",
        "    def is_valid(self, position, time_step):\n",
        "        \"\"\"Check if a move is valid considering static and dynamic obstacles.\"\"\"\n",
        "        x, y = position\n",
        "        n, m = len(self.grid), len(self.grid[0])\n",
        "\n",
        "        # Check boundaries\n",
        "        if x < 0 or x >= n or y < 0 or y >= m:\n",
        "            return False\n",
        "\n",
        "        # Check static obstacles\n",
        "        if self.grid[x][y] == '#':\n",
        "            return False\n",
        "\n",
        "        # Check dynamic obstacles\n",
        "        if position in self.dynamic_obstacles.get(time_step, []):\n",
        "            return False\n",
        "\n",
        "        return True\n",
        "\n",
        "    def generate_path(self, node):\n",
        "        \"\"\"Genreate the path from the start to the current node.\"\"\"\n",
        "        path = []\n",
        "        while node:\n",
        "            path.append(node.position)\n",
        "            node = node.parent\n",
        "        return path[::-1]\n",
        "\n",
        "\n"
      ],
      "metadata": {
        "id": "r2FDD_pYcZJR"
      },
      "execution_count": null,
      "outputs": []
    },
    {
      "cell_type": "markdown",
      "source": [
        "##A* Search Algorithm\n",
        " The `search` method uses a priority queue (`exploration_queue`) to explore nodes based on their `f_cost` (the sum of the path cost and heuristic estimate to the goal). Dynamic obstacles are handled by associating their movements with discrete time steps, calculated using the total time elapsed (`current_node.time // self.step_interval`). The algorithm validates moves using the `is_valid` method, which checks for static grid boundaries, obstacles, and dynamic obstacles at the relevant time step. The search stops when the goal is reached or when no more paths exist within the constraints, such as battery life, which limits the number of moves. The `explored_nodes` set prevents revisiting nodes already processed for a specific position and time step, ensuring efficiency. If a valid path is found, it is reconstructed using `generate_path` and returned; otherwise, the method returns \"No path found.\""
      ],
      "metadata": {
        "id": "6pQEdlxfhO_1"
      }
    },
    {
      "cell_type": "code",
      "source": [
        "class AStarSearch(Search):\n",
        "    def __init__(self, grid, start, goal, battery_life, dynamic_obstacles, step_interval):\n",
        "        super().__init__(grid, start, goal, battery_life, dynamic_obstacles, step_interval)\n",
        "\n",
        "    def search(self):\n",
        "        exploration_queue = []\n",
        "        explored_nodes = set()\n",
        "        start_node = Node(position=self.start, g_cost=0, h_cost=self.heuristic(self.start, self.goal), time=0)\n",
        "        heapq.heappush(exploration_queue, start_node)\n",
        "\n",
        "        while exploration_queue:\n",
        "            current_node = heapq.heappop(exploration_queue)\n",
        "\n",
        "            current_time_step = current_node.time // self.step_interval\n",
        "            if (current_node.position, current_time_step) in explored_nodes:\n",
        "                continue\n",
        "\n",
        "            explored_nodes.add((current_node.position, current_time_step))\n",
        "\n",
        "            if current_node.position == self.goal:\n",
        "                return self.generate_path(current_node)\n",
        "\n",
        "            if current_node.g_cost >= self.battery_life:\n",
        "                continue\n",
        "\n",
        "            for move in [(0, 1), (1, 0), (0, -1), (-1, 0)]:\n",
        "                neighbor_position = (current_node.position[0] + move[0], current_node.position[1] + move[1])\n",
        "                neighbor_time = current_node.time + 1\n",
        "                neighbor_time_step = neighbor_time // self.step_interval\n",
        "\n",
        "                if not self.is_valid(neighbor_position, neighbor_time_step):\n",
        "                    continue\n",
        "\n",
        "                neighbor = Node(\n",
        "                    position=neighbor_position,\n",
        "                    parent=current_node,\n",
        "                    g_cost=current_node.g_cost + 1,\n",
        "                    h_cost=self.heuristic(neighbor_position, self.goal),\n",
        "                    time=neighbor_time\n",
        "                )\n",
        "\n",
        "                if (neighbor.position, neighbor_time_step) in explored_nodes:\n",
        "                    continue\n",
        "\n",
        "                heapq.heappush(exploration_queue, neighbor)\n",
        "\n",
        "        return \"No path found\"\n"
      ],
      "metadata": {
        "id": "fdIXPnrQdUFh"
      },
      "execution_count": 56,
      "outputs": []
    },
    {
      "cell_type": "markdown",
      "source": [
        "##Testing the search algorithm for the given input:"
      ],
      "metadata": {
        "id": "3x9BBHGbzPc1"
      }
    },
    {
      "cell_type": "code",
      "source": [
        "astar = AStarSearch(grid, start, destination, b, dynamic_obstacles, t)\n",
        "astar_path = astar.search()\n",
        "if astar_path == \"No path found\":\n",
        "    print(astar_path)\n",
        "else:\n",
        "    print(\"Optimal path:\", astar_path)"
      ],
      "metadata": {
        "colab": {
          "base_uri": "https://localhost:8080/"
        },
        "id": "qiyDbFIAxtLf",
        "outputId": "5c7725ff-2711-43ef-af47-d6f7105d4eeb"
      },
      "execution_count": 63,
      "outputs": [
        {
          "output_type": "stream",
          "name": "stdout",
          "text": [
            "Optimal path: [(0, 0), (1, 0), (1, 1), (2, 1), (3, 1), (3, 2), (3, 3), (3, 4), (4, 4)]\n"
          ]
        }
      ]
    },
    {
      "cell_type": "markdown",
      "source": [
        "##Hill Climbing Search Algorithm\n",
        " Hill Climbing algorithm finds a path in a grid by always moving to the first valid neighboring position that improves its heuristic (gets closer to the goal). Starting from the initial position, it looks at all possible moves (up, down, left, right), filters out invalid ones (like obstacles or revisited positions), and checks if they improve the heuristic. If a better position is found, the algorithm moves there and continues. If no better move exists, it stops, assuming it's stuck. The process ends when the goal is reached, the battery runs out, or no valid moves are left, and it returns the path to the goal or a failure reason."
      ],
      "metadata": {
        "id": "_5XeIe9c0xxO"
      }
    },
    {
      "cell_type": "code",
      "source": [
        "class HillClimbingSearch(Search):\n",
        "    def __init__(self, grid, start, goal, battery_life, dynamic_obstacles, step_interval):\n",
        "        super().__init__(grid, start, goal, battery_life, dynamic_obstacles, step_interval)\n",
        "\n",
        "    def search(self):\n",
        "        \"\"\"Implement the Hill Climbing algorithm (first best move).\"\"\"\n",
        "        start_node = Node(position=self.start, g_cost=0, h_cost=self.heuristic(self.start, self.goal), time=0)\n",
        "        current_node = start_node\n",
        "        battery_charge = self.battery_life\n",
        "\n",
        "        explored_nodes = set()\n",
        "\n",
        "        while current_node.position != self.goal:\n",
        "            if battery_charge <= 0:\n",
        "                return \"No path found (Battery exhausted)\"\n",
        "\n",
        "            current_time_step = current_node.time // self.step_interval\n",
        "\n",
        "            explored_nodes.add((current_node.position, current_time_step))\n",
        "\n",
        "            # Generate neighbors\n",
        "            neighbors = []\n",
        "            for move in [(0, 1), (1, 0), (0, -1), (-1, 0)]:\n",
        "                neighbor_position = (current_node.position[0] + move[0], current_node.position[1] + move[1])\n",
        "                neighbor_time = current_node.time + 1\n",
        "                neighbor = Node(\n",
        "                    position=neighbor_position,\n",
        "                    parent=current_node,\n",
        "                    g_cost=current_node.g_cost + 1,\n",
        "                    h_cost=self.heuristic(neighbor_position, self.goal),\n",
        "                    time=neighbor_time\n",
        "                )\n",
        "                neighbors.append(neighbor)\n",
        "\n",
        "            # Filter valid neighbors\n",
        "            valid_neighbors = []\n",
        "            for neighbor in neighbors:\n",
        "                neighbor_time_step = neighbor.time // self.step_interval\n",
        "                if self.is_valid(neighbor.position, neighbor_time_step) and \\\n",
        "                        (neighbor.position, neighbor_time_step) not in explored_nodes:\n",
        "                    valid_neighbors.append(neighbor)\n",
        "\n",
        "            if not valid_neighbors:\n",
        "                return \"No path found (No valid moves)\"\n",
        "\n",
        "            # Select the first improving neighbor\n",
        "            improved = False\n",
        "            for neighbor in valid_neighbors:\n",
        "                if neighbor.h_cost < current_node.h_cost:\n",
        "                    current_node = neighbor\n",
        "                    battery_charge -= 1\n",
        "                    improved = True\n",
        "                    break\n",
        "\n",
        "            if not improved:\n",
        "                return \"No path found (Stuck at local optimum)\"\n",
        "\n",
        "        return self.generate_path(current_node)\n"
      ],
      "metadata": {
        "id": "8Ui2UiG1030m"
      },
      "execution_count": 54,
      "outputs": []
    },
    {
      "cell_type": "markdown",
      "source": [
        "##Testing the search algorithm for the given input:"
      ],
      "metadata": {
        "id": "iqu3RuLCYdO7"
      }
    },
    {
      "cell_type": "code",
      "source": [
        "hill_climbing = HillClimbingSearch(grid, start, destination, b, dynamic_obstacles, t)\n",
        "hill_climbing_path = hill_climbing.search()\n",
        "if isinstance(hill_climbing_path, str):\n",
        "    print(hill_climbing_path)\n",
        "else:\n",
        "    print(\"Path found:\", hill_climbing_path)"
      ],
      "metadata": {
        "colab": {
          "base_uri": "https://localhost:8080/"
        },
        "id": "Rmya_PdL9s-q",
        "outputId": "6e106240-38d7-44d8-bd7d-9dd4d2d04b75"
      },
      "execution_count": 64,
      "outputs": [
        {
          "output_type": "stream",
          "name": "stdout",
          "text": [
            "Path found: [(0, 0), (1, 0), (1, 1), (2, 1), (3, 1), (3, 2), (3, 3), (3, 4), (4, 4)]\n"
          ]
        }
      ]
    },
    {
      "cell_type": "markdown",
      "source": [
        "##Simulated Annealing Search Algorithm\n",
        "\n",
        "Simulated Annealing algorithm finds a path in a grid by exploring possible moves, even if they sometimes seem worse, to avoid getting stuck in dead ends. Starting from the initial position, it looks at valid nearby positions and uses a random process to decide whether to move to a new position. If the new position is better, it moves there; if it's worse, it might still move there, but the chance decreases as the \"temperature\" cools. This way, it balances trying new paths and focusing on the best path. The process stops when the temperature gets too low, the battery runs out, or the goal is reached, and it returns the path or a failure reason."
      ],
      "metadata": {
        "id": "8ykBZFz5Gzql"
      }
    },
    {
      "cell_type": "code",
      "source": [
        "import math\n",
        "import random\n",
        "\n",
        "class SimulatedAnnealingSearch(Search):\n",
        "    def __init__(self, grid, start, goal, battery_life, dynamic_obstacles, step_interval, initial_temp, cooling_rate, min_temp):\n",
        "        super().__init__(grid, start, goal, battery_life, dynamic_obstacles, step_interval)\n",
        "        self.initial_temp = initial_temp\n",
        "        self.cooling_rate = cooling_rate\n",
        "        self.min_temp = min_temp\n",
        "\n",
        "    def search(self):\n",
        "        \"\"\"Implement Simulated Annealing for grid navigation.\"\"\"\n",
        "        current_node = Node(\n",
        "            position=self.start,\n",
        "            g_cost=0,\n",
        "            h_cost=self.heuristic(self.start, self.goal),\n",
        "            time=0\n",
        "        )\n",
        "        current_energy = self.heuristic(current_node.position, self.goal)\n",
        "        temperature = self.initial_temp\n",
        "        battery_charge = self.battery_life\n",
        "\n",
        "        explored_nodes = set()\n",
        "        explored_nodes.add((current_node.position, current_node.time // self.step_interval))\n",
        "\n",
        "        while temperature > self.min_temp and battery_charge > 0:\n",
        "            # Generate a random neighbor\n",
        "            neighbors = []\n",
        "            for move in [(0, 1), (1, 0), (0, -1), (-1, 0)]:\n",
        "                neighbor_position = (current_node.position[0] + move[0], current_node.position[1] + move[1])\n",
        "                neighbor_time = current_node.time + 1\n",
        "                neighbor_time_step = neighbor_time // self.step_interval\n",
        "\n",
        "                if self.is_valid(neighbor_position, neighbor_time_step) and \\\n",
        "                        (neighbor_position, neighbor_time_step) not in explored_nodes:\n",
        "                    neighbor = Node(\n",
        "                        position=neighbor_position,\n",
        "                        parent=current_node,\n",
        "                        g_cost=current_node.g_cost + 1,\n",
        "                        h_cost=self.heuristic(neighbor_position, self.goal),\n",
        "                        time=neighbor_time\n",
        "                    )\n",
        "                    neighbors.append(neighbor)\n",
        "\n",
        "            if not neighbors:\n",
        "                return \"No path found (No valid moves)\"\n",
        "\n",
        "            # Select a random neighbor\n",
        "            random_neighbor = random.choice(neighbors)\n",
        "            random_neighbor_energy = random_neighbor.h_cost\n",
        "            delta_energy = random_neighbor_energy - current_energy\n",
        "\n",
        "            # Decide whether to accept the neighbor\n",
        "            if delta_energy < 0 or random.uniform(0, 1) < math.exp(-delta_energy / temperature):\n",
        "                current_node = random_neighbor\n",
        "                current_energy = random_neighbor_energy\n",
        "                explored_nodes.add((current_node.position, current_node.time // self.step_interval))\n",
        "                battery_charge -= 1\n",
        "\n",
        "            # Cool down\n",
        "            temperature *= self.cooling_rate\n",
        "\n",
        "            if current_node.position == self.goal:\n",
        "                return self.generate_path(current_node)\n",
        "\n",
        "        return \"No path found\"\n"
      ],
      "metadata": {
        "id": "P9tygwBgG72j"
      },
      "execution_count": 35,
      "outputs": []
    },
    {
      "cell_type": "markdown",
      "source": [
        "##Testing the search algorithm for the given input:"
      ],
      "metadata": {
        "id": "yfzp8tpiIa_7"
      }
    },
    {
      "cell_type": "code",
      "source": [
        "initial_temp = 50\n",
        "cooling_rate = 0.9\n",
        "min_temp = 1e-3\n",
        "\n",
        "simulated_annealing = SimulatedAnnealingSearch(\n",
        "    grid=grid,\n",
        "    start=start,\n",
        "    goal=destination,\n",
        "    battery_life=b,\n",
        "    dynamic_obstacles=dynamic_obstacles,\n",
        "    step_interval=t,\n",
        "    initial_temp=initial_temp,\n",
        "    cooling_rate=cooling_rate,\n",
        "    min_temp=min_temp\n",
        ")\n",
        "\n",
        "simulated_annealing_path = simulated_annealing.search()\n",
        "\n",
        "if isinstance(simulated_annealing_path, str):\n",
        "    print(simulated_annealing_path)\n",
        "else:\n",
        "    print(\"Path found:\", simulated_annealing_path)\n"
      ],
      "metadata": {
        "colab": {
          "base_uri": "https://localhost:8080/"
        },
        "id": "en0HOGJPIjFd",
        "outputId": "ee902320-7826-449b-bd5d-6bb6e4118396"
      },
      "execution_count": 65,
      "outputs": [
        {
          "output_type": "stream",
          "name": "stdout",
          "text": [
            "No path found\n"
          ]
        }
      ]
    },
    {
      "cell_type": "markdown",
      "source": [
        "##Tabu Search Algorithm\n",
        "\n",
        "Starting from an initial position, the algorithm generates all valid neighbors by simulating moves in four directions and filtering out invalid positions based on constraints. A tabu list is maintained to prevent revisiting recently explored positions, ensuring that the search avoids cycling and explores new areas. The algorithm selects the best non-tabu neighbor based on a heuristic function (Manhattan distance) and updates the current state accordingly. If a neighbor on the tabu list offers a better solution than the best-known state, the tabu restriction is overridden (aspiration criteria). The search continues until the goal is reached, the battery is exhausted, or the maximum number of iterations is reached. If successful, the algorithm returns the optimal path; otherwise, it provides a failure reason."
      ],
      "metadata": {
        "id": "B65iqlriLzJe"
      }
    },
    {
      "cell_type": "code",
      "source": [
        "class TabuSearch(Search):\n",
        "    def __init__(self, grid, start, goal, battery_life, dynamic_obstacles, step_interval, tabu_list_size, max_iterations):\n",
        "        super().__init__(grid, start, goal, battery_life, dynamic_obstacles, step_interval)\n",
        "        self.tabu_list_size = tabu_list_size\n",
        "        self.max_iterations = max_iterations\n",
        "\n",
        "    def search(self):\n",
        "        \"\"\"Implement the Tabu Search algorithm.\"\"\"\n",
        "        current_node = Node(\n",
        "            position=self.start,\n",
        "            g_cost=0,\n",
        "            h_cost=self.heuristic(self.start, self.goal),\n",
        "            time=0\n",
        "        )\n",
        "        best_node = current_node\n",
        "        battery_remaining = self.battery_life\n",
        "        tabu_list = []\n",
        "        explored_nodes = set()\n",
        "\n",
        "        for iteration in range(self.max_iterations):\n",
        "            if current_node.position == self.goal:\n",
        "                return self.generate_path(current_node)\n",
        "\n",
        "            if battery_remaining <= 0:\n",
        "                return \"No path found (Battery exhausted)\"\n",
        "\n",
        "            current_time_step = current_node.time // self.step_interval\n",
        "\n",
        "            explored_nodes.add((current_node.position, current_time_step))\n",
        "\n",
        "            # Generate neighbors\n",
        "            neighbors = []\n",
        "            for move in [(0, 1), (1, 0), (0, -1), (-1, 0)]:\n",
        "                neighbor_position = (current_node.position[0] + move[0], current_node.position[1] + move[1])\n",
        "                neighbor_time = current_node.time + 1\n",
        "                neighbor_time_step = neighbor_time // self.step_interval\n",
        "\n",
        "                if self.is_valid(neighbor_position, neighbor_time_step) and \\\n",
        "                        (neighbor_position, neighbor_time_step) not in explored_nodes:\n",
        "                    neighbor = Node(\n",
        "                        position=neighbor_position,\n",
        "                        parent=current_node,\n",
        "                        g_cost=current_node.g_cost + 1,\n",
        "                        h_cost=self.heuristic(neighbor_position, self.goal),\n",
        "                        time=neighbor_time\n",
        "                    )\n",
        "                    neighbors.append(neighbor)\n",
        "\n",
        "            if not neighbors:\n",
        "                return \"No path found (No valid moves)\"\n",
        "\n",
        "            best_neighbor = None\n",
        "            best_neighbor_score = float('inf')\n",
        "            for neighbor in neighbors:\n",
        "                if neighbor.position not in tabu_list or neighbor.h_cost < best_node.h_cost:\n",
        "                    if neighbor.h_cost < best_neighbor_score:\n",
        "                        best_neighbor = neighbor\n",
        "                        best_neighbor_score = neighbor.h_cost\n",
        "\n",
        "            if best_neighbor is None:\n",
        "                return \"No path found (All neighbors are tabu)\"\n",
        "\n",
        "            # Update the current node\n",
        "            current_node = best_neighbor\n",
        "            battery_remaining -= 1\n",
        "\n",
        "            # Update the best solution found\n",
        "            if current_node.h_cost < best_node.h_cost:\n",
        "                best_node = current_node\n",
        "\n",
        "            tabu_list.append(current_node.position)\n",
        "            if len(tabu_list) > self.tabu_list_size:\n",
        "                tabu_list.pop(0)\n",
        "\n",
        "        if best_node.position == self.goal:\n",
        "            return self.generate_path(best_node)\n",
        "        else:\n",
        "            return \"No path found (Max iterations reached)\"\n"
      ],
      "metadata": {
        "id": "dW83v1aGL99t"
      },
      "execution_count": 59,
      "outputs": []
    },
    {
      "cell_type": "markdown",
      "source": [
        "##Testing the search algorithm for the given input:"
      ],
      "metadata": {
        "id": "F8GIiEVrpnpX"
      }
    },
    {
      "cell_type": "code",
      "source": [
        "tabu_list_size = 2\n",
        "max_iterations = 100\n",
        "\n",
        "tabu_search = TabuSearch(\n",
        "    grid=grid,\n",
        "    start=start,\n",
        "    goal=destination,\n",
        "    battery_life=b,\n",
        "    dynamic_obstacles=dynamic_obstacles,\n",
        "    step_interval=t,\n",
        "    tabu_list_size=tabu_list_size,\n",
        "    max_iterations=max_iterations\n",
        ")\n",
        "\n",
        "tabu_path = tabu_search.search()\n",
        "\n",
        "if isinstance(tabu_path, str):\n",
        "    print(path)\n",
        "else:\n",
        "    print(\"Path found:\", tabu_path)\n"
      ],
      "metadata": {
        "colab": {
          "base_uri": "https://localhost:8080/"
        },
        "id": "EekD3uvBpoJj",
        "outputId": "579cc31a-da41-4447-b8fd-c82a672dd5fb"
      },
      "execution_count": 66,
      "outputs": [
        {
          "output_type": "stream",
          "name": "stdout",
          "text": [
            "Path found: [(0, 0), (1, 0), (1, 1), (2, 1), (3, 1), (3, 2), (3, 3), (3, 4), (4, 4)]\n"
          ]
        }
      ]
    },
    {
      "cell_type": "markdown",
      "source": [
        "##Final Output:"
      ],
      "metadata": {
        "id": "9j7d_WcQwhV7"
      }
    },
    {
      "cell_type": "code",
      "source": [
        "def print_result(path):\n",
        "  if isinstance(path, str):\n",
        "    print(\"No path found\")\n",
        "  else:\n",
        "    print(len(path))\n",
        "    for move in path:\n",
        "      print(move[0], ' ', move[1])\n",
        "print(\"A* Algorithm:\")\n",
        "print_result(astar_path)\n",
        "print(\"Hill Climbing:\")\n",
        "print_result(hill_climbing_path)\n",
        "print(\"Simulated Annealing:\")\n",
        "print_result(simulated_annealing_path)\n",
        "print(\"Tabu Search:\")\n",
        "print_result(tabu_path)"
      ],
      "metadata": {
        "colab": {
          "base_uri": "https://localhost:8080/"
        },
        "id": "moyYkdvbwkpU",
        "outputId": "18f169bf-7e58-454f-8b68-e91399cbbed0"
      },
      "execution_count": 68,
      "outputs": [
        {
          "output_type": "stream",
          "name": "stdout",
          "text": [
            "A* Algorithm:\n",
            "9\n",
            "0   0\n",
            "1   0\n",
            "1   1\n",
            "2   1\n",
            "3   1\n",
            "3   2\n",
            "3   3\n",
            "3   4\n",
            "4   4\n",
            "Hill Climbing:\n",
            "9\n",
            "0   0\n",
            "1   0\n",
            "1   1\n",
            "2   1\n",
            "3   1\n",
            "3   2\n",
            "3   3\n",
            "3   4\n",
            "4   4\n",
            "Simulated Annealing:\n",
            "No path found\n",
            "Tabu Search:\n",
            "9\n",
            "0   0\n",
            "1   0\n",
            "1   1\n",
            "2   1\n",
            "3   1\n",
            "3   2\n",
            "3   3\n",
            "3   4\n",
            "4   4\n"
          ]
        }
      ]
    }
  ]
}